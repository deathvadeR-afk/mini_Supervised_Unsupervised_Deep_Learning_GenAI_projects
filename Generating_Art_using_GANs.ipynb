{
  "metadata": {
    "kernelspec": {
      "name": "python3",
      "display_name": "Python 3",
      "language": "python"
    },
    "language_info": {
      "name": "python",
      "version": "3.11.13",
      "mimetype": "text/x-python",
      "codemirror_mode": {
        "name": "ipython",
        "version": 3
      },
      "pygments_lexer": "ipython3",
      "nbconvert_exporter": "python",
      "file_extension": ".py"
    },
    "accelerator": "GPU",
    "colab": {
      "gpuType": "T4",
      "machine_shape": "hm",
      "provenance": [],
      "name": "Generating_Art_using_GANs",
      "include_colab_link": true
    },
    "kaggle": {
      "accelerator": "nvidiaTeslaT4",
      "dataSources": [
        {
          "sourceId": 310927,
          "sourceType": "datasetVersion",
          "datasetId": 130081
        }
      ],
      "dockerImageVersionId": 31090,
      "isInternetEnabled": true,
      "language": "python",
      "sourceType": "notebook",
      "isGpuEnabled": true
    }
  },
  "nbformat_minor": 0,
  "nbformat": 4,
  "cells": [
    {
      "cell_type": "markdown",
      "metadata": {
        "id": "view-in-github",
        "colab_type": "text"
      },
      "source": [
        "<a href=\"https://colab.research.google.com/github/deathvadeR-afk/mini_Supervised_Unsupervised_Deep_Learning_GenAI_projects/blob/main/Generating_Art_using_GANs.ipynb\" target=\"_parent\"><img src=\"https://colab.research.google.com/assets/colab-badge.svg\" alt=\"Open In Colab\"/></a>"
      ]
    },
    {
      "source": [
        "# IMPORTANT: RUN THIS CELL IN ORDER TO IMPORT YOUR KAGGLE DATA SOURCES,\n",
        "# THEN FEEL FREE TO DELETE THIS CELL.\n",
        "# NOTE: THIS NOTEBOOK ENVIRONMENT DIFFERS FROM KAGGLE'S PYTHON\n",
        "# ENVIRONMENT SO THERE MAY BE MISSING LIBRARIES USED BY YOUR\n",
        "# NOTEBOOK.\n",
        "import kagglehub\n",
        "ikarus777_best_artworks_of_all_time_path = kagglehub.dataset_download('ikarus777/best-artworks-of-all-time')\n",
        "\n",
        "print('Data source import complete.')\n"
      ],
      "metadata": {
        "id": "yvLCypv6CUng"
      },
      "cell_type": "code",
      "outputs": [],
      "execution_count": null
    },
    {
      "cell_type": "code",
      "source": [
        "data_dir = '/kaggle/input/best-artworks-of-all-time/resized/'\n",
        "import os\n",
        "for cls in os.listdir(data_dir):\n",
        "  print(cls, ':', len(os.listdir(data_dir + '/' + cls)))\n",
        "from torchvision.datasets import ImageFolder\n",
        "dataset = ImageFolder(data_dir)\n",
        "len(dataset)"
      ],
      "metadata": {
        "id": "4u7H-mGw0MzH",
        "trusted": true,
        "execution": {
          "iopub.status.busy": "2025-08-19T03:49:30.834693Z",
          "iopub.execute_input": "2025-08-19T03:49:30.835367Z",
          "iopub.status.idle": "2025-08-19T03:49:56.019382Z",
          "shell.execute_reply.started": "2025-08-19T03:49:30.835343Z",
          "shell.execute_reply": "2025-08-19T03:49:56.018665Z"
        }
      },
      "outputs": [],
      "execution_count": null
    },
    {
      "cell_type": "code",
      "source": [
        "import matplotlib.pyplot as plt\n",
        "%matplotlib inline\n",
        "img, label = dataset[0]\n",
        "plt.imshow(img)\n",
        "img, label = dataset[500]\n",
        "plt.imshow(img)\n",
        "img, label = dataset[741]\n",
        "plt.imshow(img)"
      ],
      "metadata": {
        "id": "QyGliOANz_se",
        "trusted": true,
        "execution": {
          "iopub.status.busy": "2025-08-19T03:50:01.725701Z",
          "iopub.execute_input": "2025-08-19T03:50:01.726532Z",
          "iopub.status.idle": "2025-08-19T03:50:02.286867Z",
          "shell.execute_reply.started": "2025-08-19T03:50:01.726509Z",
          "shell.execute_reply": "2025-08-19T03:50:02.28615Z"
        }
      },
      "outputs": [],
      "execution_count": null
    },
    {
      "cell_type": "code",
      "source": [
        "import torchvision.transforms as tt\n",
        "from torch.utils.data import DataLoader\n",
        "\n",
        "image_size = 64\n",
        "batch_size = 128\n",
        "stats = (0.5, 0.5, 0.5), (0.5, 0.5, 0.5)\n",
        "train_ds = ImageFolder(data_dir, transform=tt.Compose([\n",
        "tt.Resize(image_size),\n",
        "tt.CenterCrop(image_size),\n",
        "tt.ToTensor(),\n",
        "tt.Normalize(*stats)]))\n",
        "train_dl = DataLoader(train_ds, batch_size, shuffle=True, num_workers=3, pin_memory=True)\n",
        "\n",
        "from torchvision.utils import make_grid\n",
        "\n",
        "def denorm(img_tensors):\n",
        "  return img_tensors * stats[1][0] + stats[0][0]\n",
        "\n",
        "def show_images(images, nmax=64):\n",
        "  fig, ax = plt.subplots(figsize=(8, 8))\n",
        "  ax.set_xticks([]); ax.set_yticks([])\n",
        "  ax.imshow(make_grid(denorm(images.detach()[:nmax]), nrow=8).permute(1, 2, 0))\n",
        "\n",
        "def show_batch(dl, nmax=64):\n",
        "  for images, _ in dl:\n",
        "    show_images(images, nmax)\n",
        "    break\n",
        "  show_batch(train_dl)"
      ],
      "metadata": {
        "id": "iBYz3uOR0Brc",
        "trusted": true,
        "execution": {
          "iopub.status.busy": "2025-08-19T03:50:40.313306Z",
          "iopub.execute_input": "2025-08-19T03:50:40.313573Z",
          "iopub.status.idle": "2025-08-19T03:50:43.729222Z",
          "shell.execute_reply.started": "2025-08-19T03:50:40.31355Z",
          "shell.execute_reply": "2025-08-19T03:50:43.728674Z"
        }
      },
      "outputs": [],
      "execution_count": null
    },
    {
      "cell_type": "code",
      "source": [
        "def get_default_device():\n",
        "  \"\"\"Pick GPU if available, else CPU\"\"\"\n",
        "  if torch.cuda.is_available():\n",
        "    return torch.device('cuda')\n",
        "  else:\n",
        "    return torch.device('cpu')\n",
        "\n",
        "def to_device(data, device):\n",
        "  \"\"\"Move tensor(s) to chosen device\"\"\"\n",
        "  if isinstance(data, (list,tuple)):\n",
        "    return [to_device(x, device) for x in data]\n",
        "  return data.to(device, non_blocking=True)\n",
        "\n",
        "class DeviceDataLoader():\n",
        "  \"\"\"Wrap a dataloader to move data to a device\"\"\"\n",
        "  def __init__(self, dl, device):\n",
        "    self.dl = dl\n",
        "    self.device = device\n",
        "  def __iter__(self):\n",
        "    \"\"\"Yield a batch of data after moving it to device\"\"\"\n",
        "    for b in self.dl:\n",
        "      yield to_device(b, self.device)\n",
        "  def __len__(self):\n",
        "    \"\"\"Number of batches\"\"\"\n",
        "    return len(self.dl)\n",
        "\n",
        "import torch\n",
        "\n",
        "device = get_default_device()\n",
        "device\n",
        "train_dl = DeviceDataLoader(train_dl, device)"
      ],
      "metadata": {
        "id": "uQ2ZwYmj0Nbl",
        "trusted": true,
        "execution": {
          "iopub.status.busy": "2025-08-19T03:50:59.967838Z",
          "iopub.execute_input": "2025-08-19T03:50:59.968385Z",
          "iopub.status.idle": "2025-08-19T03:50:59.974133Z",
          "shell.execute_reply.started": "2025-08-19T03:50:59.968357Z",
          "shell.execute_reply": "2025-08-19T03:50:59.973243Z"
        }
      },
      "outputs": [],
      "execution_count": null
    },
    {
      "cell_type": "code",
      "source": [
        "import torch.nn as nn\n",
        "discriminator = nn.Sequential(\n",
        "# in: 3 x 64 x 64\n",
        "nn.Conv2d(3, 64, kernel_size=4, stride=2, padding=1, bias=False),\n",
        "nn.BatchNorm2d(64),\n",
        "nn.LeakyReLU(0.2, inplace=True),\n",
        "# out: 64 x 32 x 32\n",
        "nn.Conv2d(64, 128, kernel_size=4, stride=2, padding=1, bias=False),\n",
        "nn.BatchNorm2d(128),\n",
        "nn.LeakyReLU(0.2, inplace=True),\n",
        "# out: 128 x 16 x 16\n",
        "nn.Conv2d(128, 256, kernel_size=4, stride=2, padding=1, bias=False),\n",
        "nn.BatchNorm2d(256),\n",
        "nn.LeakyReLU(0.2, inplace=True),\n",
        "# out: 256 x 8 x 8\n",
        "nn.Conv2d(256, 512, kernel_size=4, stride=2, padding=1, bias=False),\n",
        "nn.BatchNorm2d(512),\n",
        "nn.LeakyReLU(0.2, inplace=True),\n",
        "# out: 512 x 4 x 4\n",
        "nn.Conv2d(512, 1, kernel_size=4, stride=1, padding=0, bias=False),\n",
        "# out: 1 x 1 x 1\n",
        "nn.Flatten(),\n",
        "nn.Sigmoid())\n",
        "discriminator = to_device(discriminator, device)"
      ],
      "metadata": {
        "id": "YiSzA04I0bFf",
        "trusted": true,
        "execution": {
          "iopub.status.busy": "2025-08-19T03:51:05.33979Z",
          "iopub.execute_input": "2025-08-19T03:51:05.340058Z",
          "iopub.status.idle": "2025-08-19T03:51:05.564358Z",
          "shell.execute_reply.started": "2025-08-19T03:51:05.340038Z",
          "shell.execute_reply": "2025-08-19T03:51:05.563799Z"
        }
      },
      "outputs": [],
      "execution_count": null
    },
    {
      "cell_type": "code",
      "source": [
        "latent_size = 128\n",
        "generator = nn.Sequential(\n",
        "# in: latent_size x 1 x 1\n",
        "nn.ConvTranspose2d(latent_size, 512, kernel_size=4, stride=1, padding=0, bias=False),\n",
        "nn.BatchNorm2d(512),\n",
        "nn.ReLU(True),\n",
        "# out: 512 x 4 x 4\n",
        "nn.ConvTranspose2d(512, 256, kernel_size=4, stride=2, padding=1, bias=False),\n",
        "nn.BatchNorm2d(256),\n",
        "nn.ReLU(True),\n",
        "# out: 256 x 8 x 8\n",
        "nn.ConvTranspose2d(256, 128, kernel_size=4, stride=2, padding=1, bias=False),\n",
        "nn.BatchNorm2d(128),\n",
        "nn.ReLU(True),\n",
        "# out: 128 x 16 x 16\n",
        "nn.ConvTranspose2d(128, 64, kernel_size=4, stride=2, padding=1, bias=False),\n",
        "nn.BatchNorm2d(64),\n",
        "nn.ReLU(True),\n",
        "# out: 64 x 32 x 32\n",
        "nn.ConvTranspose2d(64, 3, kernel_size=4, stride=2, padding=1, bias=False),\n",
        "nn.Tanh()\n",
        "# out: 3 x 64 x 64\n",
        ")"
      ],
      "metadata": {
        "id": "r6Qk4sjl0bnu",
        "trusted": true,
        "execution": {
          "iopub.status.busy": "2025-08-19T03:51:12.068803Z",
          "iopub.execute_input": "2025-08-19T03:51:12.069049Z",
          "iopub.status.idle": "2025-08-19T03:51:12.104692Z",
          "shell.execute_reply.started": "2025-08-19T03:51:12.069032Z",
          "shell.execute_reply": "2025-08-19T03:51:12.104197Z"
        }
      },
      "outputs": [],
      "execution_count": null
    },
    {
      "cell_type": "code",
      "source": [
        "xb = torch.randn(batch_size, latent_size, 1, 1) # random latent tensors\n",
        "fake_images = generator(xb)\n",
        "print(fake_images.shape)\n",
        "show_images(fake_images)"
      ],
      "metadata": {
        "id": "oQDjvnrq0ePN",
        "trusted": true,
        "execution": {
          "iopub.status.busy": "2025-08-19T03:51:19.137019Z",
          "iopub.execute_input": "2025-08-19T03:51:19.137257Z",
          "iopub.status.idle": "2025-08-19T03:51:19.875229Z",
          "shell.execute_reply.started": "2025-08-19T03:51:19.137241Z",
          "shell.execute_reply": "2025-08-19T03:51:19.874258Z"
        }
      },
      "outputs": [],
      "execution_count": null
    },
    {
      "cell_type": "code",
      "source": [
        "def train_discriminator(real_images, opt_d):\n",
        "  # Clear discriminator gradients\n",
        "  opt_d.zero_grad()\n",
        "  # Pass real images through discriminator\n",
        "  real_preds = discriminator(real_images)\n",
        "  real_targets = torch.ones(real_images.size(0), 1, device=device)\n",
        "  real_loss = F.binary_cross_entropy(real_preds, real_targets)\n",
        "  real_score = torch.mean(real_preds).item()\n",
        "  # Generate fake images\n",
        "  latent = torch.randn(batch_size, latent_size, 1, 1, device=device)\n",
        "  fake_images = generator(latent)\n",
        "  # Pass fake images through discriminator\n",
        "  fake_targets = torch.zeros(fake_images.size(0), 1, device=device)\n",
        "  fake_preds = discriminator(fake_images)\n",
        "  fake_loss = F.binary_cross_entropy(fake_preds, fake_targets)\n",
        "  fake_score = torch.mean(fake_preds).item()\n",
        "  # Update discriminator weights\n",
        "  loss = real_loss + fake_loss\n",
        "  loss.backward()\n",
        "  opt_d.step()\n",
        "  return loss.item(), real_score, fake_score"
      ],
      "metadata": {
        "id": "y9tzUHO60gJf",
        "trusted": true,
        "execution": {
          "iopub.status.busy": "2025-08-19T03:51:28.550542Z",
          "iopub.execute_input": "2025-08-19T03:51:28.551263Z",
          "iopub.status.idle": "2025-08-19T03:51:28.556146Z",
          "shell.execute_reply.started": "2025-08-19T03:51:28.55124Z",
          "shell.execute_reply": "2025-08-19T03:51:28.555454Z"
        }
      },
      "outputs": [],
      "execution_count": null
    },
    {
      "cell_type": "code",
      "source": [
        "def train_generator(opt_g):\n",
        "  # Clear generator gradients\n",
        "  opt_g.zero_grad()\n",
        "  # Generate fake images\n",
        "  latent = torch.randn(batch_size, latent_size, 1, 1, device=device)\n",
        "  fake_images = generator(latent)\n",
        "  # Try to fool the discriminator\n",
        "  preds = discriminator(fake_images)\n",
        "  targets = torch.ones(batch_size, 1, device=device)\n",
        "  loss = F.binary_cross_entropy(preds, targets)\n",
        "  # Update generator weights\n",
        "  loss.backward()\n",
        "  opt_g.step()\n",
        "  return loss.item()\n",
        "\n",
        "from torchvision.utils import save_image\n",
        "\n",
        "sample_dir = 'generated'\n",
        "os.makedirs(sample_dir, exist_ok=True)\n",
        "\n",
        "def save_samples(index, latent_tensors, show=True):\n",
        "  fake_images = generator(latent_tensors)\n",
        "  fake_fname = 'generated-images-{0:0=4d}.png'.format(index)\n",
        "  save_image(denorm(fake_images), os.path.join(sample_dir, fake_fname), nrow=8)\n",
        "  print('Saving', fake_fname)\n",
        "  if show:\n",
        "    fig, ax = plt.subplots(figsize=(8, 8))\n",
        "    ax.set_xticks([]); ax.set_yticks([])\n",
        "    ax.imshow(make_grid(fake_images.cpu().detach(), nrow=8).permute(1, 2, 0))\n",
        "\n",
        "  fixed_latent = torch.randn(64, latent_size, 1, 1, device=device)\n",
        "  save_samples(0, fixed_latent)"
      ],
      "metadata": {
        "id": "F73paZ7a0jFM",
        "trusted": true,
        "execution": {
          "iopub.status.busy": "2025-08-19T03:51:41.323854Z",
          "iopub.execute_input": "2025-08-19T03:51:41.32455Z",
          "iopub.status.idle": "2025-08-19T03:51:41.331798Z",
          "shell.execute_reply.started": "2025-08-19T03:51:41.32453Z",
          "shell.execute_reply": "2025-08-19T03:51:41.331252Z"
        }
      },
      "outputs": [],
      "execution_count": null
    },
    {
      "cell_type": "code",
      "source": [
        "from tqdm.notebook import tqdm\n",
        "import torch.nn.functional as F\n",
        "\n",
        "def fit(epochs, lr, start_idx=1):\n",
        "  torch.cuda.empty_cache()\n",
        "\n",
        "  # Losses & scores\n",
        "  losses_g = []\n",
        "  losses_d = []\n",
        "  real_scores = []\n",
        "  fake_scores = []\n",
        "\n",
        "  # Create optimizers\n",
        "  opt_d = torch.optim.Adam(discriminator.parameters(), lr=lr, betas=(0.5, 0.999))\n",
        "  opt_g = torch.optim.Adam(generator.parameters(), lr=lr, betas=(0.5, 0.999))\n",
        "\n",
        "  # Move models to the appropriate device\n",
        "  discriminator.to(device) # Move discriminator to the device\n",
        "  generator.to(device) # Move generator to the device\n",
        "\n",
        "  fixed_latent = torch.randn(64, latent_size, 1, 1, device=device)\n",
        "\n",
        "\n",
        "  for epoch in range(epochs):\n",
        "\n",
        "    for real_images, _ in tqdm(train_dl):\n",
        "      # Train discriminator\n",
        "      loss_d, real_score, fake_score = train_discriminator(real_images, opt_d)\n",
        "      # Train generator\n",
        "      loss_g = train_generator(opt_g)\n",
        "      # Record losses & scores\n",
        "      losses_g.append(loss_g)\n",
        "      losses_d.append(loss_d)\n",
        "      real_scores.append(real_score)\n",
        "      fake_scores.append(fake_score)\n",
        "\n",
        "    # Log losses & scores (last batch)\n",
        "    print(\"Epoch [{}/{}], loss_g: {:.4f}, loss_d: {:.4f}, real_score: {:.4f}, fake_score: {:.4f}\".format(\n",
        "    epoch+1, epochs, loss_g, loss_d, real_score, fake_score))\n",
        "\n",
        "  # Save generated images\n",
        "  save_samples(epoch+start_idx, fixed_latent, show=False)\n",
        "\n",
        "  return losses_g, losses_d, real_scores, fake_scores\n",
        "\n",
        "lr = 0.0002\n",
        "epochs = 300\n",
        "history = fit(epochs, lr)\n",
        "losses_g, losses_d, real_scores, fake_scores = history\n",
        "# Save the model checkpoints\n",
        "torch.save(generator.state_dict(), 'G.pth')\n",
        "torch.save(discriminator.state_dict(), 'D.pth')"
      ],
      "metadata": {
        "id": "vqGWT-RK0l99",
        "trusted": true,
        "execution": {
          "iopub.status.busy": "2025-08-19T03:52:01.755582Z",
          "iopub.execute_input": "2025-08-19T03:52:01.75588Z",
          "iopub.status.idle": "2025-08-19T05:39:02.997715Z",
          "shell.execute_reply.started": "2025-08-19T03:52:01.755859Z",
          "shell.execute_reply": "2025-08-19T05:39:02.995234Z"
        }
      },
      "outputs": [],
      "execution_count": null
    },
    {
      "cell_type": "code",
      "source": [
        "import cv2\n",
        "import os\n",
        "vid_fname = 'art_gans_training.avi'\n",
        "files = [os.path.join(sample_dir, f) for f in os.listdir(sample_dir) if 'generated' in f]\n",
        "files.sort()\n",
        "out = cv2.VideoWriter(vid_fname,cv2.VideoWriter_fourcc(*'MP4V'), 5, (530,530))\n",
        "[out.write(cv2.imread(fname)) for fname in files]\n",
        "out.release()"
      ],
      "metadata": {
        "id": "o95OAwyI1Bku",
        "trusted": true,
        "execution": {
          "execution_failed": "2025-08-19T06:33:54.887Z"
        }
      },
      "outputs": [],
      "execution_count": null
    }
  ]
}